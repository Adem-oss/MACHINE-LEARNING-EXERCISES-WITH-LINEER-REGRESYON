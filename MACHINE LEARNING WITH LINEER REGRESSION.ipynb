{
 "cells": [
  {
   "cell_type": "code",
   "execution_count": 2,
   "metadata": {},
   "outputs": [],
   "source": [
    "import numpy as np\n",
    "import pandas as pd\n",
    "import matplotlib.pyplot as plt"
   ]
  },
  {
   "cell_type": "code",
   "execution_count": 1,
   "metadata": {},
   "outputs": [],
   "source": [
    "from sympy import Symbol, Function, Derivative, simplify, diff, Sum, Product, IndexedBase, Eq, log, exp, MatrixSymbol, ZeroMatrix, evaluate, latex\n",
    "from sympy.stats import Normal, density\n",
    "from IPython.display import display, Latex"
   ]
  },
  {
   "cell_type": "code",
   "execution_count": 3,
   "metadata": {},
   "outputs": [],
   "source": [
    "X = IndexedBase('X')\n",
    "        # X isimli bir indisli taban (indexed base) oluşturur. Bu, X[i], X[j] gibi indisli ifadeler yazmaya olanak sağlar.\n",
    "Y = IndexedBase('Y')\n",
    "        # Y isimli bir indisli taban oluşturur. Aynı şekilde Y[i], Y[j] gibi indisli ifadeler yazmaya olanak sağlar.\n",
    "i = Symbol('i', integer=True)\n",
    "        # i isimli bir sembol (symbol) oluşturur. Bu, i'nin bir tam sayı (integer) olduğunu belirtir.\n",
    "m = Symbol('m', integer=True)\n",
    "        # m isimli bir sembol oluşturur. Bu, m'nin bir tam sayı olduğunu belirtir.\n",
    "h = Function('h') \n",
    "        # h isimli bir fonksiyon (function) oluşturur. Bu, h(x), h(y) gibi fonksiyon çağrıları yapmaya olanak sağlar.\n",
    "f = Function('f')\n",
    "        # f isimli bir fonksiyon oluşturur. Aynı şekilde f(x), f(y) gibi fonksiyon çağrıları yapmaya olanak sağlar.\n",
    "sigma = Symbol('sigma')\n",
    "        # sigma isimli bir sembol oluşturur. Bu, sigma'nın herhangi bir değer alabileceğini belirtir.\n",
    "x = Symbol('x')\n",
    "        # x isimli bir sembol oluşturur. Aynı şekilde x'in herhangi bir değer alabileceğini belirtir.\n",
    "N = Normal('N', 0, sigma)\n",
    "        # N isimli bir normal dağılım (normal distribution) oluşturur. Bu, N'in ortalaması 0 ve standart sapması sigma olan bir \n",
    "        # normal dağılımı temsil ettiğini belirtir."
   ]
  },
  {
   "attachments": {},
   "cell_type": "markdown",
   "metadata": {},
   "source": [
    "Asagidaki sorulari `sympy` kullanarak ya da kendiniz hesaplayarak cozebilirsiniz:"
   ]
  },
  {
   "attachments": {},
   "cell_type": "markdown",
   "metadata": {},
   "source": [
    "# 1.\n",
    "\n",
    "Normal dagilim olasilik yogunluk fonksiyonu $pdf(x)$ icin dogru ifadeyi yaziniz."
   ]
  },
  {
   "cell_type": "code",
   "execution_count": 9,
   "metadata": {},
   "outputs": [
    {
     "data": {
      "text/latex": [
       "$\\displaystyle \\frac{\\sqrt{2} e^{- \\frac{x^{2}}{2 \\sigma^{2}}}}{2 \\sqrt{\\pi} \\sigma}$"
      ],
      "text/plain": [
       "sqrt(2)*exp(-x**2/(2*sigma**2))/(2*sqrt(pi)*sigma)"
      ]
     },
     "metadata": {},
     "output_type": "display_data"
    }
   ],
   "source": [
    "#Normal dagilim olasilik yogunluk fonksiyonu pdf(x) icin dogru ifadeyi yazalım.\n",
    "pdf = density(N)(x)\n",
    "display(pdf)\n"
   ]
  },
  {
   "attachments": {},
   "cell_type": "markdown",
   "metadata": {},
   "source": [
    "Bu kod, bir olasılık yoğunluk fonksiyonu (pdf) hesaplamak için kullanılır. Bir pdf, bir sürekli rasgele değişkenin olasılıklarını belirlemek için kullanılan bir fonksiyondur. Kodunuzda, N bir dağılım nesnesi, x bir girdi vektörü ve pdf ise çıktı vektörüdür. Kodunuzda şu adımlar gerçekleşir:\n",
    "\n",
    "pdf = density(N)(x) : Bu satırda, N dağılım nesnesinin yoğunluk fonksiyonunu alır ve x vektöründeki değerler için uygular. Sonuç olarak, pdf vektörü elde edilir.\n",
    "display(pdf) : Bu satırda, pdf vektörünün değerleri ekrana yazdırılır"
   ]
  },
  {
   "attachments": {},
   "cell_type": "markdown",
   "metadata": {},
   "source": [
    "# 2.\n",
    "\n",
    "## a.\n",
    "\n",
    "1. soruda yazmis oldugunuz ifadenin logaritmasini hesaplayiniz."
   ]
  },
  {
   "cell_type": "code",
   "execution_count": 11,
   "metadata": {},
   "outputs": [
    {
     "data": {
      "text/latex": [
       "$\\displaystyle \\log{\\left(\\frac{\\sqrt{2} e^{- \\frac{x^{2}}{2 \\sigma^{2}}}}{2 \\sqrt{\\pi} \\sigma} \\right)}$"
      ],
      "text/plain": [
       "log(sqrt(2)*exp(-x**2/(2*sigma**2))/(2*sqrt(pi)*sigma))"
      ]
     },
     "execution_count": 11,
     "metadata": {},
     "output_type": "execute_result"
    }
   ],
   "source": [
    "# 1. soruda yazmis oldugumuz ifadenin logaritmasini hesaplayalim.\n",
    "logpdf = log(pdf)\n",
    "logpdf"
   ]
  },
  {
   "attachments": {},
   "cell_type": "markdown",
   "metadata": {},
   "source": [
    "## b.\n",
    "\n",
    "Fonksiyonun logaritmasi, $x$, $\\mu$ ve $\\sigma$'nin alabilecegi tum degerler icin tanimli midir? Tartisiniz."
   ]
  },
  {
   "cell_type": "code",
   "execution_count": 12,
   "metadata": {},
   "outputs": [],
   "source": [
    "# Fonksiyonun logaritmasi, x, mu ve sigma 'nin alabilecegi tum degerler icin tanimli midir? Tartisiniz.\n",
    "# Cevap: x, mu ve sigma'nin alabilecegi tum degerler icin tanimlidir. Cunku x, mu ve sigma'nin alabilecegi tum degerler icin\n",
    "# pdf(x) tanimlidir. pdf(x) tanimli oldugu icin log(pdf(x)) de tanimlidir."
   ]
  },
  {
   "attachments": {},
   "cell_type": "markdown",
   "metadata": {},
   "source": [
    "# 3."
   ]
  },
  {
   "attachments": {},
   "cell_type": "markdown",
   "metadata": {},
   "source": [
    "$$Y = f(X) + N(0, \\sigma^2)$$ \n",
    "\n",
    "kabulu ile, gozlemlenen veriye gore en olasi hipotez $h(x)$'i verecek ifade $\\argmax_h{P(h|D)}$'yi elde ediniz."
   ]
  },
  {
   "cell_type": "code",
   "execution_count": 18,
   "metadata": {},
   "outputs": [],
   "source": [
    "# Bu soru, olasılık teorisinde argmax fonksiyonunu ve Bayes teoremini kullanarak bir hipotezin olasılığını nasıl bulacağımızı göstermektedir. \n",
    "# Argmax fonksiyonu, bir fonksiyonun maksimum değerini veren girdiyi döndürür. Örneğin, argmax x f(x) = x* ise, f(x) fonksiyonunun maksimum \n",
    "# değerini veren x değeri x* 'dir. Bayes teoremi ise, bir olayın koşullu olasılığını hesaplamak için kullanılan bir formüldür. Örneğin, \n",
    "# P(A|B) = P(B|A)P(A)/P(B) ise, A olayının B olayı verildiğinde olma olasılığıdır.\n",
    "# Soruda verilen kabule göre, Y = f(X) + N(0, sigma^2) ifadesi, Y’nin X’in bir fonksiyonu ve N(0, sigma^2) dağılımına sahip bir gürültü terimi \n",
    "# olduğunu belirtir. Burada N(0, sigma^2) normal dağılımı ifade eder ve 0 ortalamaya ve sigma^2 varyansa sahiptir. D ise gözlemlenen veriyi ifade \n",
    "# eder. Soruda istenen ifadeyi elde etmek için şu adımları izleyebiliriz:\n",
    "\n",
    "# Öncelikle, P(h|D) ifadesini Bayes teoremi ile açabiliriz: P(h|D) = P(D|h)P(h)/P(D). Burada P(D|h) verinin h hipotezi altındaki olabilirliği \n",
    "# (likelihood), P(h) h hipotezinin önsel (prior) olasılığı ve P(D) verinin önsel (marginal) olasılığıdır.\n",
    "# Daha sonra, argmax h {P(h|D)} ifadesini şöyle yazabiliriz: \n",
    "# argmax h {P(D|h)P(h)/P(D)}. Burada P(D) terimi sabit olduğundan ve argmax fonksiyonunu etkilemediğinden atabiliriz. \n",
    "# Böylece argmax h {P(D|h)P(h)} elde ederiz.\n",
    "# Son olarak, argmax h {P(D|h)P(h)} ifadesini logaritmik olarak dönüştürebiliriz: \n",
    "# argmax h {log P(D|h) + log P(h)}. Burada logaritma fonksiyonu sıkıca artan (strictly increasing) bir fonksiyon olduğundan ve argmax fonksiyonunu \n",
    "# değiştirmediğinden kullanabiliriz. Böylece argmax h {log P(D|h) + log P(h)} ifadesini elde ederiz.\n",
    "\n",
    "# Böylece soruda istenen ifadeyi elde etmiş oluruz: argmaxh​P(h∣D)=argmaxh​logP(D∣h)+logP(h). Bu ifadeyi kullanarak, veriye göre en olası hipotezi \n",
    "# bulabiliriz. argmaxh​P(h∣D)=argmaxh​logP(D∣h)+logP(h) ifadesinde logP(h) ifadesini atabiliriz cunku h'nin alabilecegi tum degerler icin\n",
    "# logP(h) ifadesi sabittir. argmaxh​P(h∣D) ifadesi ise h'nin alabilecegi tum degerler icin tanimlidir. \n",
    "# Bu ifadeyi kullanarak, veriye göre en olası hipotezi bulabiliriz. argmaxh​P(h∣D)=argmaxh​logP(D∣h) ifadesi ise h'nin alabilecegi tum degerler icin \n",
    "# tanimlidir. Bu ifadeyi kullanarak, veriye göre en olası hipotezi bulabiliriz."
   ]
  },
  {
   "attachments": {},
   "cell_type": "markdown",
   "metadata": {},
   "source": [
    "# 4."
   ]
  },
  {
   "attachments": {},
   "cell_type": "markdown",
   "metadata": {},
   "source": [
    "Asagida gozlemlenen veri icin $h(x) = b_0x + b_1$ seklinde bir hipotez kurulmak istenmektedir."
   ]
  },
  {
   "cell_type": "code",
   "execution_count": 36,
   "metadata": {},
   "outputs": [],
   "source": [
    "X = [-1.14006356,  1.46848016, -0.40708797,  0.70240296, -0.61037443,\n",
    "       -0.63758673, -0.28367862]\n",
    "Y = [-6.66557354,  9.0224508 ,  0.02996956,  3.45515991, -1.15409285,\n",
    "       -3.42222933, -0.9221716 ]"
   ]
  },
  {
   "cell_type": "code",
   "execution_count": 37,
   "metadata": {},
   "outputs": [
    {
     "data": {
      "image/png": "[encoded data removed]",
      "text/plain": [
       "<Figure size 640x480 with 1 Axes>"
      ]
     },
     "metadata": {},
     "output_type": "display_data"
    }
   ],
   "source": [
    "plt.scatter(X, Y)\n",
    "plt.grid()\n",
    "plt.xlabel('x');\n",
    "plt.ylabel('y');"
   ]
  },
  {
   "attachments": {},
   "cell_type": "markdown",
   "metadata": {},
   "source": [
    "## a.\n",
    "\n",
    "Verilen iki liste (gercek ve tahmin) icin MSE (ortalama kare hata) olcumunu hesaplayacak fonksiyonu yaziniz."
   ]
  },
  {
   "cell_type": "code",
   "execution_count": 38,
   "metadata": {},
   "outputs": [],
   "source": [
    "def MSE(gercek, tahmin):\n",
    "    return np.sum((gercek - tahmin)**2) / len(gercek)"
   ]
  },
  {
   "cell_type": "code",
   "execution_count": 39,
   "metadata": {},
   "outputs": [],
   "source": [
    "def MSE1(gercek, tahmin):\n",
    "    return np.mean((gercek - tahmin)**2)    "
   ]
  },
  {
   "cell_type": "code",
   "execution_count": 20,
   "metadata": {},
   "outputs": [],
   "source": [
    "# MSE VE MSE1 fonksiyonlarinin sonuclarini karsilastiriniz.\n",
    "# Cevap: MSE ve MSE1 fonksiyonlarinin sonuclari aynidir."
   ]
  },
  {
   "attachments": {},
   "cell_type": "markdown",
   "metadata": {},
   "source": [
    "## b.\n",
    "\n",
    "$h_1(x) = 3x + 5$ ve $h_2(x) = -2x - 1$ gibi iki hipotez ortaya atilmaktadir. Bunlardan hangisinin daha uygun oldugunu nasil aciklarsiniz?"
   ]
  },
  {
   "cell_type": "code",
   "execution_count": 48,
   "metadata": {},
   "outputs": [
    {
     "name": "stdout",
     "output_type": "stream",
     "text": [
      "MSE for h1: 26.043057681928413\n",
      "MSE for h2: 40.18098251070737\n",
      "h1'in ortalama kare hatası olan mse1, h2'in ortalama kare hatası \n",
      "olan mse2'den küçük olduğuna göre Hipotez 1 verilere daha iyi uyar.\n"
     ]
    }
   ],
   "source": [
    "# İki hipotez arasında hangisinin daha uygun olduğunu belirlemek için MSE değerlerini karşılaştırabilirsiniz. MSE değeri ne kadar küçükse, \n",
    "# hipotez verilere o kadar iyi uyar. Aşağıdaki kod bloğunda her iki hipotez için MSE değerlerini hesapladım.\n",
    "import numpy as np\n",
    "import matplotlib.pyplot as plt\n",
    "\n",
    "X = np.array([-1.14006356,  1.46848016, -0.40708797,  0.70240296, -0.61037443,\n",
    "       -0.63758673, -0.28367862])\n",
    "Y = np.array([-6.66557354,  9.0224508 ,  0.02996956,  3.45515991, -1.15409285,\n",
    "       -3.42222933, -0.9221716 ])\n",
    "\n",
    "def MSE(gercek, tahmin):\n",
    "    return np.sum((gercek - tahmin)**2) / len(gercek)\n",
    "\n",
    "h1 = 3 * X + 5  # h1(x) = 3x + 5\n",
    "h2 = -2 * X - 1 # h2(x) = -2x - 1\n",
    "\n",
    "mse1 = MSE(Y, h1) #h1 hipotezini gerçek değer olan Y ile karşılaştırmak için ortalama kare hatasını MSE fonksiyonu ile hesapladım.\n",
    "mse2 = MSE(Y, h2) #h2 hipotezini gerçek değer olan Y ile karşılaştırmak için ortalama kare hatasını MSE fonksiyonu ile hesapladım.\n",
    "\n",
    "print(\"MSE for h1:\", mse1)\n",
    "print(\"MSE for h2:\", mse2)\n",
    "\n",
    "# Burada sonuç olarak ortalama kare hata MSE hipotez 1 için daha az olduğundan, hipotez 1'in verilere daha iyi uyduğunu söyleyebiliriz.\n",
    "# Ortalama kare hatanın (MSE)'nin küçük olması düşünülen hipotezin gerçek verilere göre daha iyi uyduğunu gösterir.\n",
    "if mse1 < mse2:\n",
    "       print(\"\"\"h1'in ortalama kare hatası olan mse1, h2'in ortalama kare hatası \n",
    "olan mse2'den küçük olduğuna göre Hipotez 1 verilere daha iyi uyar.\"\"\")\n",
    "else:\n",
    "     print(\"\"\"h2'in ortalama kare hatası olan mse2, h1'in ortalama kare hatası \n",
    "olan mse1'den küçük olduğuna göre Hipotez 2 verilere daha iyi uyar.\"\"\")"
   ]
  },
  {
   "attachments": {},
   "cell_type": "markdown",
   "metadata": {},
   "source": [
    "## c.\n",
    "\n",
    "Gozlemlenen veri $X$ ve $Y$ icin $h(x) = b_0 + b_1 x$ cinsinden en olasi hipotezi verecek $b_0$ ve $b_1$ degerlerini hesaplayiniz."
   ]
  },
  {
   "cell_type": "code",
   "execution_count": 71,
   "metadata": {},
   "outputs": [],
   "source": [
    "#Cevap:"
   ]
  },
  {
   "attachments": {},
   "cell_type": "markdown",
   "metadata": {},
   "source": [
    "- En uygun hipotezde yapılan işlem, verilen X ve Y değerleri arasındaki doğrusal ilişkiyi bulmak için en küçük kareler yöntemi kullanmaktır.\n",
    "- Bu yöntemde, b0 ve b1 katsayıları öyle seçilir ki, veri noktaları ile hipotez fonksiyonu arasındaki kareli hataların toplamı minimum olsun.\n",
    "- Burada b1 katsayısı, X ve Y değerleri arasındaki ilişkiyi gösterir. Yani aslında b1, hataları en küçük yapan hesabı yapar. (b1 katsayısı learning rate olarak bilinmez. Learning rate, gradient descent algoritmasında kullanılan bir parametredir. b1 katsayısı eğim veya yön olarak bilinir. b0 ve b1 katsayıları için bir maliyet fonksiyonu vardır. Maliyet fonksiyonu, veri noktaları ile hipotez fonksiyonu arasındaki kareli hataların toplamıdır. Bu maliyet fonksiyonunu minimize eden b0 ve b1 değerlerini bulmak için en küçük kareler yöntemi kullanılır. Gradient descent algoritması da bir başka yöntemdir. Gradient descent algoritması, maliyet fonksiyonunun minimum değerini bulmak için kullanılır.)  \n",
    "- b0 katsayısı da intersept değerini gösterir. Yani, X ve Y değerleri arasındaki ilişkiyi gösteren doğrunun Y eksenini kestiği noktayı gösterir.\n",
    "- Burada b0 katsayısı da Y değerlerinin X değerlerinden ne kadar uzakta olduğunu gösterir. X ve Y değerleri arasındaki ilişki ne kadar güçlüyse, b1 o kadar büyük olur. Y değerleri X değerlerinden ne kadar uzakta ise, b0 o kadar büyük olur.\n",
    "- Burada gradient desent algoritması kullanılmaz. Çünkü, b0 ve b1 katsayıları için bir maliyet fonksiyonu yoktur. Yani, b0 ve b1 katsayıları için bir hata fonksiyonu yoktur. gradient desent algoritması, hata fonksiyonunun minimum değerini bulmak için kullanılır.\n",
    "- Bu şekilde, verileri en iyi açıklayan doğruyu elde ederiz.\n",
    "- b0 ve b1 katsayılarını hesaplamak için şu formülleri kullanırız:\n",
    "$$b1 = \\frac{\\sum{(X - \\bar{X})(Y - \\bar{Y})}}{\\sum{(X - \\bar{X})^2}}$$\n",
    "$$b0 = \\bar{Y} - b1 * \\bar{X}$$\n",
    "- Burada Xˉ ve Yˉ sırasıyla X ve Y değerlerinin ortalamalarını gösterir.\n",
    "- Kodda yazdığınız fonksiyon da bu formülleri uygulamaktadır. Sonuç olarak, b0 ve b1 değerlerini bulduktan sonra, hipotez fonksiyonunu şöyle \n",
    "- yazabiliriz:\n",
    "$$h = b0 + b1 * X$$\n",
    "- Bu fonksiyonu da veri noktalarının üzerine çizerek görselleştirebiliriz."
   ]
  },
  {
   "cell_type": "code",
   "execution_count": 32,
   "metadata": {},
   "outputs": [
    {
     "name": "stdout",
     "output_type": "stream",
     "text": [
      "b0: 0.7555375806163727\n",
      "b1: 5.44686144346226\n"
     ]
    }
   ],
   "source": [
    "# Gozlemlenen veri $X$ ve $Y$ icin $h(x) = b_0 + b_1 x$ cinsinden en olasi hipotezi verecek $b_0$ ve $b_1$ degerlerini hesaplayan fonksiyonu yazalım.\n",
    "# Cevap:\n",
    "def en_uygun_hipotez(X, Y):\n",
    "    b1 = np.sum((X - np.mean(X)) * (Y - np.mean(Y))) / np.sum((X - np.mean(X))**2)\n",
    "    b0 = np.mean(Y) - b1 * np.mean(X)\n",
    "    return b0, b1\n",
    "\n",
    "# Hesaplanan fonksiyonu yazalım.\n",
    "b0, b1 = en_uygun_hipotez(X, Y)\n",
    "print(\"b0:\", b0)\n",
    "print(\"b1:\", b1)"
   ]
  },
  {
   "cell_type": "code",
   "execution_count": 31,
   "metadata": {},
   "outputs": [],
   "source": [
    "#Genel olarak yazdığımız fonksiyonla birlikte bulduğumuz b0 ve b1 değerlerini kullanarak h(x) = b0 + b1x hipotezini çizdiren kodu yazalım."
   ]
  },
  {
   "cell_type": "code",
   "execution_count": 35,
   "metadata": {},
   "outputs": [
    {
     "name": "stdout",
     "output_type": "stream",
     "text": [
      "b0: 0.7555375806163727\n",
      "b1: 5.44686144346226\n"
     ]
    },
    {
     "data": {
      "image/png": "[encoded data removed]",
      "text/plain": [
       "<Figure size 640x480 with 1 Axes>"
      ]
     },
     "metadata": {},
     "output_type": "display_data"
    }
   ],
   "source": [
    "import numpy as np\n",
    "import matplotlib.pyplot as plt\n",
    "\n",
    "X = np.array([-1.14006356,  1.46848016, -0.40708797,  0.70240296, -0.61037443,\n",
    "       -0.63758673, -0.28367862])\n",
    "Y = np.array([-6.66557354,  9.0224508 ,  0.02996956,  3.45515991, -1.15409285,\n",
    "       -3.42222933, -0.9221716 ])\n",
    "\n",
    "# b0 ve b1 değerlerini hesaplayan fonksiyonu yazalım\n",
    "def en_uygun_hipotez(X, Y):\n",
    "       b1 = np.sum((X - np.mean(X)) * (Y - np.mean(Y))) / np.sum((X - np.mean(X))**2)\n",
    "       b0 = np.mean(Y) - b1 * np.mean(X)\n",
    "       return b0, b1\n",
    "\n",
    "print(\"b0:\", b0)\n",
    "print(\"b1:\", b1)\n",
    "\n",
    "# Hipotez fonksiyonu h = b0 + b1 * X\n",
    "h = b0 + b1 * X\n",
    "\n",
    "# Verileri ve hipotezi görselleştir\n",
    "plt.scatter(X, Y, label=\"Veri\")\n",
    "plt.plot(X, h, color=\"red\", label=\"Hipotez\")\n",
    "plt.xlabel(\"x\")\n",
    "plt.ylabel(\"y\")\n",
    "plt.legend()\n",
    "plt.show()"
   ]
  },
  {
   "cell_type": "code",
   "execution_count": 75,
   "metadata": {},
   "outputs": [
    {
     "name": "stdout",
     "output_type": "stream",
     "text": [
      "b0: 0.7555375806163729\n",
      "b1: 5.446861443462262\n"
     ]
    },
    {
     "data": {
      "image/png": "[encoded data removed]",
      "text/plain": [
       "<Figure size 640x480 with 1 Axes>"
      ]
     },
     "metadata": {},
     "output_type": "display_data"
    }
   ],
   "source": [
    "import numpy as np\n",
    "import matplotlib.pyplot as plt\n",
    "from sklearn.linear_model import LinearRegression\n",
    "\n",
    "X = np.array([-1.14006356,  1.46848016, -0.40708797,  0.70240296, -0.61037443,\n",
    "       -0.63758673, -0.28367862])\n",
    "Y = np.array([-6.66557354,  9.0224508 ,  0.02996956,  3.45515991, -1.15409285,\n",
    "       -3.42222933, -0.9221716 ])\n",
    "\n",
    "# X değerlerini 2 boyutlu bir matrise dönüştürelim\n",
    "X = X.reshape(-1, 1)\n",
    "\n",
    "# sklearn ile doğrusal regresyon modeli oluşturalım\n",
    "reg = LinearRegression()\n",
    "\n",
    "# Modeli verilere uyduralım\n",
    "reg.fit(X, Y)\n",
    "\n",
    "# b0 ve b1 değerlerini alalım\n",
    "b0 = reg.intercept_\n",
    "b1 = reg.coef_[0]\n",
    "\n",
    "print(\"b0:\", b0)\n",
    "print(\"b1:\", b1)\n",
    "\n",
    "# Hipotez fonksiyonu h = b0 + b1 * X\n",
    "h = b0 + b1 * X\n",
    "\n",
    "# Verileri ve hipotezi görselleştir\n",
    "plt.scatter(X, Y, label=\"Veri\")\n",
    "plt.plot(X, h, color=\"red\", label=\"Hipotez\")\n",
    "plt.xlabel(\"x\")\n",
    "plt.ylabel(\"y\")\n",
    "plt.legend()\n",
    "plt.show()"
   ]
  },
  {
   "attachments": {},
   "cell_type": "markdown",
   "metadata": {},
   "source": [
    "## d.\n",
    "\n",
    "Gozlemlenen veri $X$ ve $Y$ icin $h(x) = b_0 + b_1 x + b_2 x^2 + b_3 x^3$ cinsinden en olasi hipotezi verecek $b_i$  degerlerini hesaplayiniz."
   ]
  },
  {
   "cell_type": "code",
   "execution_count": 49,
   "metadata": {},
   "outputs": [],
   "source": [
    "# Cevap:"
   ]
  },
  {
   "attachments": {},
   "cell_type": "markdown",
   "metadata": {},
   "source": [
    "- Verilen X ve Y değerleri arasındaki ilişkiyi n dereceli bir polinom ile modelleyebiliriz. Polinom regresyon, doğrusal regresyonun bir özel durumudur. Çünkü, regresyon fonksiyonu E(y|x) bilinmeyen parametreler açısından doğrusaldır.\n",
    "\n",
    "$$E(y|x) = b_0 + b_1 x + b_2 x^2 + b_3 x^3$$\n",
    "\n",
    "- En küçük kareler yöntemi ile b0, b1, b2 ve b3 değerlerini bulun. Bu değerleri bulmak için şu formülü kullanabilirsiniz:\n",
    "\n",
    "$$\\beta = (X^T X)^{-1} X^T Y$$\n",
    "\n",
    "Burada $\\beta$ vektörü [b0, b1, b2, b3] değerlerini içerir.\n",
    "\n",
    "- Bu değerleri kullanarak hipotez fonksiyonunu şöyle yazabilirsiniz:\n",
    "\n",
    "$$h(x) = b_0 + b_1 x + b_2 x^2 + b_3 x^3$$"
   ]
  },
  {
   "cell_type": "code",
   "execution_count": 70,
   "metadata": {},
   "outputs": [
    {
     "name": "stdout",
     "output_type": "stream",
     "text": [
      "b0: 0.8391649186665507\n",
      "b1: 3.5829809354090045\n",
      "b2: -0.9085960802161175\n",
      "b3: 1.5416940595042528\n"
     ]
    }
   ],
   "source": [
    "import numpy as np\n",
    "\n",
    "X = np.array([-1.14006356,  1.46848016, -0.40708797,  0.70240296, -0.61037443,\n",
    "       -0.63758673, -0.28367862])\n",
    "Y = np.array([-6.66557354,  9.0224508 ,  0.02996956,  3.45515991, -1.15409285,\n",
    "       -3.42222933, -0.9221716 ])\n",
    "\n",
    "# Verilen X değerlerinin karesini ve küpünü alarak yeni değişkenler oluşturalım\n",
    "X2 = X**2\n",
    "X3 = X**3\n",
    "\n",
    "# Bu yeni değişkenleri X matrisine ekleyelim. \"np.c_\" bir NumPy işlevi (fonksiyonu) olup, birleştirme (concatenation) işlemi yapar ve iki veya daha \n",
    "# fazla numpy dizisini sütunlara göre yanyana birleştirir.\n",
    "X = np.c_[np.ones(len(X)), X, X2, X3]\n",
    "\n",
    "# En küçük kareler yöntemi ile beta vektörünü bulalım\n",
    "beta = np.linalg.inv(X.T @ X) @ X.T @ Y\n",
    "\n",
    "# Beta vektöründeki değerleri alalım\n",
    "b0 = beta[0]\n",
    "b1 = beta[1]\n",
    "b2 = beta[2]\n",
    "b3 = beta[3]\n",
    "\n",
    "print(\"b0:\", b0)\n",
    "print(\"b1:\", b1)\n",
    "print(\"b2:\", b2)\n",
    "print(\"b3:\", b3)\n"
   ]
  },
  {
   "cell_type": "code",
   "execution_count": 76,
   "metadata": {},
   "outputs": [
    {
     "name": "stdout",
     "output_type": "stream",
     "text": [
      "b0: 0.8391649186665521\n",
      "b1: 3.582980935409009\n",
      "b2: -0.9085960802161201\n",
      "b3: 1.5416940595042483\n"
     ]
    }
   ],
   "source": [
    "#Polinomial Regresyon ile Çözüm\n",
    "import numpy as np\n",
    "from sklearn.linear_model import LinearRegression\n",
    "from sklearn.preprocessing import PolynomialFeatures\n",
    "\n",
    "X = np.array([-1.14006356,  1.46848016, -0.40708797,  0.70240296, -0.61037443,\n",
    "       -0.63758673, -0.28367862])\n",
    "Y = np.array([-6.66557354,  9.0224508 ,  0.02996956,  3.45515991, -1.15409285,\n",
    "       -3.42222933, -0.9221716 ])\n",
    "\n",
    "# X değerlerini 2 boyutlu bir matrise dönüştürelim\n",
    "X = X.reshape(-1, 1)\n",
    "\n",
    "# Polinom özellikleri oluşturalım\n",
    "poly = PolynomialFeatures(degree=3)\n",
    "\n",
    "# X matrisini polinom özellikleri ile genişletelim\n",
    "X_poly = poly.fit_transform(X)\n",
    "\n",
    "# sklearn ile doğrusal regresyon modeli oluşturalım\n",
    "reg = LinearRegression()\n",
    "\n",
    "# Modeli verilere uyduralım\n",
    "reg.fit(X_poly, Y)\n",
    "\n",
    "# b0 ve b1 değerlerini alalım\n",
    "b0 = reg.intercept_\n",
    "b1 = reg.coef_[1]\n",
    "b2 = reg.coef_[2]\n",
    "b3 = reg.coef_[3]\n",
    "\n",
    "print(\"b0:\", b0)\n",
    "print(\"b1:\", b1)\n",
    "print(\"b2:\", b2)\n",
    "print(\"b3:\", b3)"
   ]
  },
  {
   "attachments": {},
   "cell_type": "markdown",
   "metadata": {},
   "source": [
    "# 5.\n",
    "\n",
    "$X$, $Y$ ve tespit edilmek istenilen katsayilar $A$'yi birer matris gibi dusunursek, hipotez asagidaki gibi de ifade edilebilir:"
   ]
  },
  {
   "cell_type": "code",
   "execution_count": 118,
   "metadata": {},
   "outputs": [],
   "source": [
    "m = Symbol('m'  , integer=True); n = Symbol('n' , integer=True)\n",
    "X = MatrixSymbol('X', m, n)\n",
    "Y = MatrixSymbol('Y', m, 1)\n",
    "A = MatrixSymbol('A', n, 1)\n",
    "J = Function('J')\n",
    "h = Function('h')"
   ]
  },
  {
   "cell_type": "code",
   "execution_count": 119,
   "metadata": {},
   "outputs": [
    {
     "data": {
      "text/latex": [
       "$\\displaystyle h{\\left(X \\right)} = X A$"
      ],
      "text/plain": [
       "Eq(h(X), X*A)"
      ]
     },
     "metadata": {},
     "output_type": "display_data"
    }
   ],
   "source": [
    "hipotez = X @ A\n",
    "with evaluate(False):\n",
    "    display(Eq(h(X), hipotez))"
   ]
  },
  {
   "attachments": {},
   "cell_type": "markdown",
   "metadata": {},
   "source": [
    "Hata:"
   ]
  },
  {
   "cell_type": "code",
   "execution_count": 120,
   "metadata": {},
   "outputs": [
    {
     "data": {
      "text/latex": [
       "$\\displaystyle - X A + Y$"
      ],
      "text/plain": [
       "-X*A + Y"
      ]
     },
     "execution_count": 120,
     "metadata": {},
     "output_type": "execute_result"
    }
   ],
   "source": [
    "hata = Y - hipotez\n",
    "hata"
   ]
  },
  {
   "attachments": {},
   "cell_type": "markdown",
   "metadata": {},
   "source": [
    "Kare hata:"
   ]
  },
  {
   "cell_type": "code",
   "execution_count": 121,
   "metadata": {},
   "outputs": [
    {
     "data": {
      "text/latex": [
       "$\\displaystyle J{\\left(A \\right)} = \\left(- A^{T} X^{T} + Y^{T}\\right) \\left(- X A + Y\\right)$"
      ],
      "text/plain": [
       "Eq(J(A), (-A.T*X.T + Y.T)*(-X*A + Y))"
      ]
     },
     "metadata": {},
     "output_type": "display_data"
    }
   ],
   "source": [
    "kare_hata = hata.T @ hata\n",
    "with evaluate(False):\n",
    "    display(Eq(J(A), kare_hata))\n",
    "\n",
    "#with evaluate(False) ifadesi, SymPy’nin otomatik olarak ifadeleri değerlendirmesini engelleyen bir bağlam yöneticisidir. \n",
    "#Bu sayede, ifadeleri sembolik olarak gösterebiliriz."
   ]
  },
  {
   "attachments": {},
   "cell_type": "markdown",
   "metadata": {},
   "source": [
    "Bu noktada bir skaler olarak kare hatalarin toplamini elde ettik:"
   ]
  },
  {
   "cell_type": "code",
   "execution_count": 122,
   "metadata": {},
   "outputs": [
    {
     "data": {
      "text/plain": [
       "(1, 1)"
      ]
     },
     "execution_count": 122,
     "metadata": {},
     "output_type": "execute_result"
    }
   ],
   "source": [
    "kare_hata.shape"
   ]
  },
  {
   "attachments": {},
   "cell_type": "markdown",
   "metadata": {},
   "source": [
    "(Yukaridaki ifadenin bir esdegeri olarak bu islemi ineceleyiniz:)"
   ]
  },
  {
   "cell_type": "code",
   "execution_count": 123,
   "metadata": {},
   "outputs": [],
   "source": [
    "hata_ = np.random.randn(10, 1) # 10 satır 1 sütun"
   ]
  },
  {
   "cell_type": "code",
   "execution_count": 124,
   "metadata": {},
   "outputs": [
    {
     "data": {
      "text/plain": [
       "23.249219508573255"
      ]
     },
     "execution_count": 124,
     "metadata": {},
     "output_type": "execute_result"
    }
   ],
   "source": [
    "(hata_**2).sum()"
   ]
  },
  {
   "cell_type": "code",
   "execution_count": 125,
   "metadata": {},
   "outputs": [
    {
     "data": {
      "text/plain": [
       "array([[23.24921951]])"
      ]
     },
     "execution_count": 125,
     "metadata": {},
     "output_type": "execute_result"
    }
   ],
   "source": [
    "hata_.T @ hata_"
   ]
  },
  {
   "attachments": {},
   "cell_type": "markdown",
   "metadata": {},
   "source": [
    "Kare hatanin turevini sifir yapan $A$'yi bulursak soruyu cozebiliriz:"
   ]
  },
  {
   "cell_type": "code",
   "execution_count": 127,
   "metadata": {},
   "outputs": [
    {
     "data": {
      "text/latex": [
       "$$\\frac{d}{d A} J{\\left(A \\right)} = 2 X^{T} X A - 2 X^{T} Y$$"
      ],
      "text/plain": [
       "<IPython.core.display.Latex object>"
      ]
     },
     "metadata": {},
     "output_type": "display_data"
    }
   ],
   "source": [
    "display(Latex(f\"$${latex(Derivative(J(A)))} = {latex(kare_hata.diff(A).expand())}$$\"))"
   ]
  },
  {
   "attachments": {},
   "cell_type": "markdown",
   "metadata": {},
   "source": [
    "### 5.a.I\n",
    "\n",
    "Yukaridaki ifadeyi kullanarak kare hatanin $A$'ya gore turevini sifir yapan $A$'yi $X$ ve $Y$ cinsinden elde ediniz."
   ]
  },
  {
   "attachments": {},
   "cell_type": "markdown",
   "metadata": {},
   "source": [
    "- Türev ifadesini sıfıra eşitleyin(X ve Y vektörleri olarak cevap verilirse):\n",
    "\n",
    "$$\\frac{dJ}{dA} = -2 \\sum_{i=1}^n (Y_i - A X_i) X_i = 0$$\n",
    "\n",
    "- Parantez içindeki terimleri açın ve toplayın:\n",
    "\n",
    "$$\\frac{dJ}{dA} = -2 \\sum_{i=1}^n (Y_i X_i - A X_i^2) = 0$$\n",
    "\n",
    "$$\\frac{dJ}{dA} = -2 \\left( \\sum_{i=1}^n Y_i X_i - A \\sum_{i=1}^n X_i^2 \\right) = 0$$\n",
    "\n",
    "- A'yı tek başına bırakmak için denklemi çözün:\n",
    "\n",
    "$$\\frac{dJ}{dA} = -2 \\left( \\sum_{i=1}^n Y_i X_i - A \\sum_{i=1}^n X_i^2 \\right) = 0$$\n",
    "\n",
    "$$\\sum_{i=1}^n Y_i X_i - A \\sum_{i=1}^n X_i^2 = 0$$\n",
    "\n",
    "$$A \\sum_{i=1}^n X_i^2 = \\sum_{i=1}^n Y_i X_i$$\n",
    "\n",
    "$$A = \\frac{\\sum_{i=1}^n Y_i X_i}{\\sum_{i=1}^n X_i^2}$$\n",
    "\n",
    "Bu son ifade, kare hatanın A'ya göre türevini sıfır yapan A'yı X ve Y cinsinden verir."
   ]
  },
  {
   "cell_type": "code",
   "execution_count": 130,
   "metadata": {},
   "outputs": [],
   "source": [
    "#X ve Y matrisleri olarak soruyu çözelim"
   ]
  },
  {
   "attachments": {},
   "cell_type": "markdown",
   "metadata": {},
   "source": [
    "- Türev ifadesini sıfıra eşitleyin:\n",
    "\n",
    "$$\\frac{dJ}{dA} = -2 X^T (Y - X A) = 0$$\n",
    "\n",
    "- Parantez içindeki terimleri açın ve toplayın:\n",
    "\n",
    "$$\\frac{dJ}{dA} = -2 X^T Y + 2 X^T X A = 0$$\n",
    "\n",
    "- A'yı tek başına bırakmak için denklemi çözün:\n",
    "\n",
    "$$\\frac{dJ}{dA} = -2 X^T Y + 2 X^T X A = 0$$\n",
    "\n",
    "$$2 X^T X A = 2 X^T Y$$\n",
    "\n",
    "$$X^T X A = X^T Y$$\n",
    "\n",
    "$$A = (X^T X)^{-1} X^T Y$$\n",
    "\n",
    "Bu son ifade, kare hatanın A'ya göre türevini sıfır yapan A'yı X ve Y cinsinden verir."
   ]
  },
  {
   "attachments": {},
   "cell_type": "markdown",
   "metadata": {},
   "source": [
    "### 5.a.II\n",
    "\n",
    "Elde ettiginiz ifadeyi `numpy.ndarray` matrisleri uzerinde uygulayacak fonksiyonu yaziniz."
   ]
  },
  {
   "cell_type": "code",
   "execution_count": 133,
   "metadata": {},
   "outputs": [],
   "source": [
    "def analitik_cozum(X, Y) -> np.ndarray:\n",
    "    A: np.ndarray = None \n",
    "    return A"
   ]
  },
  {
   "cell_type": "code",
   "execution_count": 134,
   "metadata": {},
   "outputs": [],
   "source": [
    "def analitik_cozum(X, Y) -> np.ndarray:\n",
    "    A: np.ndarray = np.linalg.inv(X.T @ X) @ X.T @ Y\n",
    "    return A"
   ]
  },
  {
   "attachments": {},
   "cell_type": "markdown",
   "metadata": {},
   "source": [
    "## b.\n",
    "\n",
    "Buldugunuz analitik cozumu kullanarak asagida gozlenen veri icin $h(X) = AX$ cinsinden en olasi hipotezi verecek $A$'yi elde ediniz."
   ]
  },
  {
   "cell_type": "code",
   "execution_count": 136,
   "metadata": {},
   "outputs": [],
   "source": [
    "X = np.array([[-1.14 ,  1.   ],\n",
    "       [ 1.468,  1.   ],\n",
    "       [-0.407,  1.   ],\n",
    "       [ 0.702,  1.   ],\n",
    "       [-0.61 ,  1.   ],\n",
    "       [-0.638,  1.   ],\n",
    "       [-0.284,  1.   ]])\n",
    "Y = np.array([[-6.666],\n",
    "       [ 9.022],\n",
    "       [ 0.03 ],\n",
    "       [ 3.455],\n",
    "       [-1.154],\n",
    "       [-3.422],\n",
    "       [-0.922]])"
   ]
  },
  {
   "cell_type": "code",
   "execution_count": 141,
   "metadata": {},
   "outputs": [
    {
     "name": "stdout",
     "output_type": "stream",
     "text": [
      "[[5.44823684]\n",
      " [0.75649247]]\n"
     ]
    }
   ],
   "source": [
    "A_ = analitik_cozum(X, Y)\n",
    "print(A_)"
   ]
  },
  {
   "cell_type": "code",
   "execution_count": 150,
   "metadata": {},
   "outputs": [
    {
     "name": "stdout",
     "output_type": "stream",
     "text": [
      "a0:  0.7564924691893429\n",
      "a1:  5.448236836441582\n"
     ]
    }
   ],
   "source": [
    "# A vektörünün ilk ve ikinci elemanlarını alın\n",
    "a1 = A_[0][0]\n",
    "a0 = A_[1][0]\n",
    "\n",
    "# h(X) ifadesini bir string olarak yazın\n",
    "print(\"a0: \",a0)\n",
    "print(\"a1: \",a1)\n"
   ]
  },
  {
   "cell_type": "code",
   "execution_count": 151,
   "metadata": {},
   "outputs": [],
   "source": [
    "# burada bulunan sonuçları daha önce bulunan \n",
    "# Hipotez fonksiyonu h = b0 + b1 * X\n",
    "# h = b0 + b1 * X\n",
    "# ile kıyaslayınca aslında aynı sonuçları bulduğumuzu görürüz."
   ]
  },
  {
   "cell_type": "code",
   "execution_count": null,
   "metadata": {},
   "outputs": [],
   "source": []
  }
 ],
 "metadata": {
  "kernelspec": {
   "display_name": "Python 3 (ipykernel)",
   "language": "python",
   "name": "python3"
  },
  "language_info": {
   "codemirror_mode": {
    "name": "ipython",
    "version": 3
   },
   "file_extension": ".py",
   "mimetype": "text/x-python",
   "name": "python",
   "nbconvert_exporter": "python",
   "pygments_lexer": "ipython3",
   "version": "3.9.13"
  },
  "vscode": {
   "interpreter": {
    "hash": "a571a25d3379e9645cc932b401c674531bbcf658e9b176b05ab9004deb2f65c4"
   }
  }
 },
 "nbformat": 4,
 "nbformat_minor": 2
}
